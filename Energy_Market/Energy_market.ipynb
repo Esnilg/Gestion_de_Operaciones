{
 "cells": [
  {
   "cell_type": "markdown",
   "metadata": {},
   "source": [
    "Discutimos un problema de optimizacion de cartera que esta ocurriendo en el mercado energetico.\n",
    "Los servicios publicos de distribucion de energia tienen que decidir que parte de la demanda de energia solicitada\n",
    "debe producirse en su propia planta de energia y que cantidad complementaria debe comprarse en el mercado al contado\n",
    "y en los contratos posteriores a la carga.\n",
    "\n",
    "# Modelo Equivalente a Energy Portfolio Optimization for Electric Utilities\n",
    "\n",
    "\\begin{align}\n",
    "\\text{minimize} \\qquad & c^{tot} \\\\\n",
    " \\text{subject to} \\quad \\quad & c^{tot}= c^{PP} + c^{SM} + c^{LFC} \\quad eq(6)\\\\\n",
    " \\qquad \\qquad & p_t^{PP} + p_t^{SM} + p_t^{LFC} = P_t  \\quad t=1,..,N^T\\quad eq(23)\\\\\n",
    " \\qquad \\qquad & c^{PP} = C_{fix}^{PP} + C_{var}^{PP}\\sum_{t=1}^{N^T}\\frac{1}{4}p_t^{PP} \\quad eq(7\\&8)\\\\\n",
    " \\qquad \\qquad & p_t^{PP} = P_{max}^{PP}\\sum_{m=2}^{N^M}\\frac{1}{10}(m+2)\\delta_{mt} \\quad t=1,..,N^T\\quad eq(26)\\\\\n",
    " \\qquad \\qquad & \\sum_{m=1}^{N^M}\\delta_{mt} = 1 \\quad t=1,..,N^T\\quad eq(25)\\\\\n",
    " \\qquad \\qquad & \\chi_t^{S} \\geq \\delta_{mt} - \\delta_{mt-1} \\quad \\forall m\\quad t=2,..,N^T\\quad eq(27)\\\\\n",
    " \\qquad \\qquad & \\chi_t^{S} \\geq \\delta_{mt-1} - \\delta_{mt} \\quad \\forall m\\quad t=2,..,N^T\\quad eq(28)\\\\\n",
    " \\qquad \\qquad & \\chi_t^{I} \\geq \\delta_{1t-1} - \\delta_{1t} \\quad t=2,..,N^T \\quad eq(30)\\\\\n",
    " \\qquad \\qquad & \\sum_{k=1}^{D_{idl}^{PP}} \\chi_{t+k-1}^{I} \\leq 1 \\quad t=1,..,N^T-(D_{idl}^{PP}-1) \\quad eq(31)\\\\\n",
    " \\qquad \\qquad & c^{SM} = 24C^{BL}\\alpha + 12C^{PL}\\beta \\quad eq(12)\\\\\n",
    " \\qquad \\qquad & p_t^{SM} = \\alpha +I_t^{PL}\\beta \\quad eq(9)\\\\\n",
    " \\qquad \\qquad & c^{LFC} = \\sum_{b=1}^{N^B}(C_b^{LFC}\\mu_b +P_b^{LFC}e_b^{LFC}) \\quad eq(14\\&21)\\\\\n",
    " \\qquad \\qquad & e^{LFC} = \\sum_{t=1}^{N^T}\\frac{1}{4}p_t^{LFC} \\quad eq(16)\\\\\n",
    " \\qquad \\qquad & \\sum_{b=1}^{N^{B}}\\mu_b = 1 \\quad eq(18)\\\\\n",
    " \\qquad \\qquad & e^{LFC} = \\sum_{b=2}^{N^B}Z_{b-1}^{d}\\mu_b  + \\sum_{b=1}^{N^B}e_{b}^{LFC} \\quad eq(19)\\\\\n",
    " \\qquad \\qquad & e_b^{LFC} \\leq (Z_b^d-Z_{b-1}^d)\\mu_b \\quad b=1,..,N^{B}\\quad eq(20)\\\\\n",
    "\\qquad \\qquad & c^{tot}, c^{PP}, e^{PP},c^{SM},e^{SM},c^{LFC},e^{LFC} \\in \\mathbb{R}^+\\\\\n",
    "\\qquad \\qquad & p_t^{PP},p_t^{SM},p_t^{LFC} \\in \\mathbb{R}^+ \\forall t\\\\\n",
    "\\qquad \\qquad & \\delta_{mt} \\in \\{0,1\\} \\forall t,m\\\\\n",
    "\\qquad \\qquad & \\chi_t^{S},\\chi_t^{I} \\in \\mathbb{R}^+ \\forall t\\\\\n",
    "\\qquad \\qquad & e_b^{LFC} \\in \\mathbb{R}^+ \\forall b\\\\\n",
    "\\qquad \\qquad & \\alpha,\\beta \\in \\mathbb{Z}^+\\\\\n",
    "\\qquad \\qquad & \\mu_b \\in \\{0,1\\} \\forall b\n",
    "\\end{align}\n",
    "\n",
    "El costo total $c^{tot}$ para el cumplimiento de la demanda para el día en particular\n",
    "$d$ consiste en el costo de la operación de la planta de energía, $c^{PP}$, el costo de la operación\n",
    "compra de energía del mercado spot, $c^{SM}$, y el costo de la compra de energía de la carga posterior al contrato, $c^{LFC}$. Por lo tanto, obtenemos por el costo total.\n",
    "\n"
   ]
  },
  {
   "cell_type": "markdown",
   "metadata": {},
   "source": []
  },
  {
   "cell_type": "code",
   "execution_count": null,
   "metadata": {},
   "outputs": [],
   "source": []
  }
 ],
 "metadata": {
  "kernelspec": {
   "display_name": "Python 2",
   "language": "python",
   "name": "python2"
  },
  "language_info": {
   "codemirror_mode": {
    "name": "ipython",
    "version": 2
   },
   "file_extension": ".py",
   "mimetype": "text/x-python",
   "name": "python",
   "nbconvert_exporter": "python",
   "pygments_lexer": "ipython2",
   "version": "2.7.15"
  }
 },
 "nbformat": 4,
 "nbformat_minor": 2
}
